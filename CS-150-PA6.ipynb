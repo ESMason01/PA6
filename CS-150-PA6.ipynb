{
 "cells": [
  {
   "cell_type": "markdown",
   "id": "39b8518d",
   "metadata": {},
   "source": [
    "# PA6, Sawyer Mason, Version 1, CS-150-01"
   ]
  },
  {
   "cell_type": "code",
   "execution_count": 44,
   "id": "69f23d61",
   "metadata": {},
   "outputs": [],
   "source": [
    "import math\n",
    "\n",
    "def calcArea():\n",
    "    a=int(input(\"Enter the length of side A: \"))\n",
    "    b=int(input(\"Enter the length of side B: \"))\n",
    "    c=int(input(\"Enter the length of side C: \"))\n",
    "    s=(a+b+c)/2\n",
    "    area=math.sqrt(s*(s-a)*(s-b)*(s-c))\n",
    "    return(f\"The area is : {area}\")\n",
    "def calcPerimeter():\n",
    "    a=int(input(\"Enter the length of side A: \"))\n",
    "    b=int(input(\"Enter the length of side B: \"))\n",
    "    c=int(input(\"Enter the length of side C: \"))\n",
    "    perimeter=a+b+c\n",
    "    return(f\"The perimeter is : {perimeter}\")"
   ]
  },
  {
   "cell_type": "code",
   "execution_count": 40,
   "id": "bebefc25",
   "metadata": {},
   "outputs": [
    {
     "name": "stdout",
     "output_type": "stream",
     "text": [
      "Enter the length of side A: 2\n",
      "Enter the length of side B: 3\n",
      "Enter the length of side C: 4\n"
     ]
    },
    {
     "data": {
      "text/plain": [
       "'The area is : 2.9047375096555625'"
      ]
     },
     "execution_count": 40,
     "metadata": {},
     "output_type": "execute_result"
    }
   ],
   "source": [
    "calcArea()"
   ]
  },
  {
   "cell_type": "code",
   "execution_count": 45,
   "id": "b607d7cb",
   "metadata": {},
   "outputs": [
    {
     "name": "stdout",
     "output_type": "stream",
     "text": [
      "Enter the length of side A: 2\n",
      "Enter the length of side B: 3\n",
      "Enter the length of side C: 4\n"
     ]
    },
    {
     "data": {
      "text/plain": [
       "'The perimeter is : 9'"
      ]
     },
     "execution_count": 45,
     "metadata": {},
     "output_type": "execute_result"
    }
   ],
   "source": [
    "calcPerimeter()"
   ]
  },
  {
   "cell_type": "code",
   "execution_count": 17,
   "id": "883ba442",
   "metadata": {},
   "outputs": [],
   "source": [
    "import random\n",
    "def evaluateGuess():\n",
    "    target_number=random.randint(1,1000)\n",
    "    guess=int(input(\"Guess a number between 1 and 1000:\"))\n",
    "    while target_number!=guess:\n",
    "        if guess>target_number:\n",
    "             guess=int(input(\"Too high! Guess again: \"))\n",
    "        elif guess<target_number:\n",
    "             guess=int(input(\"Too low! Guess again: \"))\n",
    "        else:\n",
    "            print(\"Correct\")\n",
    "            break\n"
   ]
  },
  {
   "cell_type": "code",
   "execution_count": null,
   "id": "025642a0",
   "metadata": {},
   "outputs": [],
   "source": [
    "evaluateGuess()"
   ]
  },
  {
   "cell_type": "code",
   "execution_count": 19,
   "id": "50cd25aa",
   "metadata": {},
   "outputs": [],
   "source": [
    "def meanTemp(*temps):\n",
    "    x=len(temps)\n",
    "    y=sum(temps)/x\n",
    "    return(f'The mean temperature for the past {x} is {y:.2f} degrees F.')"
   ]
  },
  {
   "cell_type": "code",
   "execution_count": 25,
   "id": "1b35b206",
   "metadata": {},
   "outputs": [
    {
     "data": {
      "text/plain": [
       "'The mean temperature for the past 3 is 31.67 degrees F.'"
      ]
     },
     "execution_count": 25,
     "metadata": {},
     "output_type": "execute_result"
    }
   ],
   "source": [
    "meanTemp(29,32,34)"
   ]
  },
  {
   "cell_type": "code",
   "execution_count": 26,
   "id": "bab0e909",
   "metadata": {},
   "outputs": [
    {
     "data": {
      "text/plain": [
       "'The mean temperature for the past 6 is 30.83 degrees F.'"
      ]
     },
     "execution_count": 26,
     "metadata": {},
     "output_type": "execute_result"
    }
   ],
   "source": [
    "meanTemp(30,32,12,45,32,34)"
   ]
  },
  {
   "cell_type": "code",
   "execution_count": null,
   "id": "09175689",
   "metadata": {},
   "outputs": [],
   "source": []
  }
 ],
 "metadata": {
  "kernelspec": {
   "display_name": "Python 3 (ipykernel)",
   "language": "python",
   "name": "python3"
  },
  "language_info": {
   "codemirror_mode": {
    "name": "ipython",
    "version": 3
   },
   "file_extension": ".py",
   "mimetype": "text/x-python",
   "name": "python",
   "nbconvert_exporter": "python",
   "pygments_lexer": "ipython3",
   "version": "3.9.13"
  }
 },
 "nbformat": 4,
 "nbformat_minor": 5
}
